{
 "cells": [
  {
   "cell_type": "code",
   "execution_count": 17,
   "id": "9e2c8dfa-bb32-4d58-b170-aafdd65a1d02",
   "metadata": {
    "tags": []
   },
   "outputs": [
    {
     "name": "stderr",
     "output_type": "stream",
     "text": [
      "/tmp/ipykernel_992082/2659931818.py:3: ParserWarning: Skipping line 558751: expected 62 fields, saw 99\n",
      "Skipping line 559357: expected 62 fields, saw 67\n",
      "Skipping line 559363: expected 62 fields, saw 63\n",
      "\n",
      "  callsforservice = pd.read_csv('../data/callsforservice.csv', quoting=csv.QUOTE_ALL , on_bad_lines='warn')\n",
      "/tmp/ipykernel_992082/2659931818.py:3: DtypeWarning: Columns (1,11,16,20,21,22,24,28,29,30,31,34,38,39,42,45,46,47,48,49,50,55,56,57,59,60,61) have mixed types. Specify dtype option on import or set low_memory=False.\n",
      "  callsforservice = pd.read_csv('../data/callsforservice.csv', quoting=csv.QUOTE_ALL , on_bad_lines='warn')\n"
     ]
    }
   ],
   "source": [
    "import pandas as pd\n",
    "import csv\n",
    "callsforservice = pd.read_csv('../data/callsforservice.csv', quoting=csv.QUOTE_ALL , on_bad_lines='warn')"
   ]
  },
  {
   "cell_type": "code",
   "execution_count": 25,
   "id": "74865ea8-5bf1-4a6a-9beb-c7699059efef",
   "metadata": {
    "tags": []
   },
   "outputs": [
    {
     "data": {
      "text/plain": [
       "Index(['primarykey', 'agency', 'event_number', 'rev_num', 'call_datetime',\n",
       "       'call_type', 'call_desc', 'primary_unit', 'priority', 'call_source',\n",
       "       'cvaddress', 'cvaddress_zip', 'apt', 'zip', 'x_coord', 'y_coord',\n",
       "       'current_flag', 'cvcalldate', 'cvcalldow', 'cvcalltime', 'cvlegend',\n",
       "       'iwgeoname', 'status', 'score', 'side', 'x', 'y', 'cv_districts',\n",
       "       'arrival_datetime', 'sub_call_type', 'nature', 'pd_zone', 'pd_district',\n",
       "       'dispo_desc', 'cv_zones', 'cv_spa', 'dispo_desc_final', 'wkb_geometry',\n",
       "       'update_datetime', 'event_status', 'pd_ward', 'cv_wards', 'cmc_case_no',\n",
       "       'cmc_case_notes', 'local_report_no', 'narrative', 'assigned',\n",
       "       'objectid', 'notes_misc', 'orig_call_desc', 'cad_notes_status',\n",
       "       'call911_status', 'bluecam_status', 'wcs_status', 'oh1_status',\n",
       "       'countermeasures', 'victim', 'oshpoh1id', 'duplicate_of',\n",
       "       'is_motorcycle', 'ytids', 'other'],\n",
       "      dtype='object')"
      ]
     },
     "execution_count": 25,
     "metadata": {},
     "output_type": "execute_result"
    }
   ],
   "source": [
    "callsforservice.columns"
   ]
  },
  {
   "cell_type": "code",
   "execution_count": 35,
   "id": "e4d9da39-a8c0-47c9-a606-f88398b0123b",
   "metadata": {
    "tags": []
   },
   "outputs": [
    {
     "name": "stdout",
     "output_type": "stream",
     "text": [
      "                                                    count\n",
      "narrative                                                \n",
      "A driver struck a person.                              61\n",
      "A driver struck a person. The crash caused inju...     41\n",
      "A driver struck a person on a bicycle.                 24\n",
      "A driver struck an adult. The crash caused inju...     23\n",
      "A driver struck an adult.                              23\n",
      "...                                                   ...\n",
      "A driver of a passenger car struck a child cros...      1\n",
      "A driver struck an adult using a wheelchair cro...      1\n",
      "A driver of a passenger car struck an adult in ...      1\n",
      "Caller reported a driver of an SUV struck a per...      1\n",
      "A driver struck an adult crossing a driveway.           1\n",
      "\n",
      "[897 rows x 1 columns]\n"
     ]
    }
   ],
   "source": [
    "# display all possible dispatch categories\n",
    "# with pd.option_context('display.max_rows', None):\n",
    "call_desc_counts = pd.DataFrame(callsforservice['narrative'].value_counts().sort_values(ascending=False))\n",
    "print(call_desc_counts)"
   ]
  },
  {
   "cell_type": "markdown",
   "id": "a232ba1b-3cc8-4ebc-b212-204f555401c4",
   "metadata": {},
   "source": [
    "https://bikepedcrashcle-tweepy.s3.amazonaws.com/reports/202100078250.pdf"
   ]
  }
 ],
 "metadata": {
  "kernelspec": {
   "display_name": "Python 3",
   "language": "python",
   "name": "python3"
  },
  "language_info": {
   "codemirror_mode": {
    "name": "ipython",
    "version": 3
   },
   "file_extension": ".py",
   "mimetype": "text/x-python",
   "name": "python",
   "nbconvert_exporter": "python",
   "pygments_lexer": "ipython3",
   "version": "3.10.9"
  }
 },
 "nbformat": 4,
 "nbformat_minor": 5
}
