{
 "cells": [
  {
   "cell_type": "code",
   "execution_count": 1,
   "metadata": {},
   "outputs": [
    {
     "name": "stdout",
     "output_type": "stream",
     "text": [
      "Root Directory:  /media/dzielinski06/HDD1/AI894 - Capstone/Complete Collision Recorder\n",
      "Src Directory:  /media/dzielinski06/HDD1/AI894 - Capstone/Complete Collision Recorder/src\n",
      "Data Directory:  /media/dzielinski06/HDD1/AI894 - Capstone/Complete Collision Recorder/data\n"
     ]
    },
    {
     "name": "stderr",
     "output_type": "stream",
     "text": [
      "/media/dzielinski06/HDD1/AI894 - Capstone/Complete Collision Recorder/.venv/lib/python3.12/site-packages/tqdm/auto.py:21: TqdmWarning: IProgress not found. Please update jupyter and ipywidgets. See https://ipywidgets.readthedocs.io/en/stable/user_install.html\n",
      "  from .autonotebook import tqdm as notebook_tqdm\n"
     ]
    }
   ],
   "source": [
    "# Map src directory\n",
    "import sys\n",
    "import os\n",
    "root_dir = os.path.abspath(os.path.join(os.getcwd(), \"../.\"))\n",
    "print(\"Root Directory: \", root_dir)\n",
    "src_dir = os.path.join(root_dir,\"src\")\n",
    "print(\"Src Directory: \", src_dir)\n",
    "sys.path.append(src_dir)\n",
    "data_dir = os.path.join(root_dir,\"data\")\n",
    "print(\"Data Directory: \", data_dir)\n",
    "\n",
    "# Import libraries\n",
    "import pandas as pd\n",
    "import complete_collision as cc"
   ]
  },
  {
   "cell_type": "code",
   "execution_count": 27,
   "metadata": {},
   "outputs": [],
   "source": [
    "GCAT_pred_df = pd.read_csv(os.path.join(data_dir, \"processed\", \"GCAT_pred_df.csv\"))"
   ]
  },
  {
   "cell_type": "code",
   "execution_count": 12,
   "metadata": {},
   "outputs": [],
   "source": [
    "GeminiBikeCleModel = cc.GenBikeCleNarrative(google_api_key=\"CCR_API\")\n",
    "GCAT_pred_df['GenAISummary'] = GCAT_pred_df['concatenated_text'].apply(lambda x: GeminiBikeCleModel.summarize(x))"
   ]
  },
  {
   "cell_type": "code",
   "execution_count": 14,
   "metadata": {},
   "outputs": [],
   "source": [
    "# bikeCLE_input_df\n",
    "GCAT_pred_df.to_csv(os.path.join(data_dir, \"processed\", \"GenAI_df.csv\"))"
   ]
  }
 ],
 "metadata": {
  "kernelspec": {
   "display_name": ".venv",
   "language": "python",
   "name": "python3"
  },
  "language_info": {
   "codemirror_mode": {
    "name": "ipython",
    "version": 3
   },
   "file_extension": ".py",
   "mimetype": "text/x-python",
   "name": "python",
   "nbconvert_exporter": "python",
   "pygments_lexer": "ipython3",
   "version": "3.12.3"
  }
 },
 "nbformat": 4,
 "nbformat_minor": 2
}
