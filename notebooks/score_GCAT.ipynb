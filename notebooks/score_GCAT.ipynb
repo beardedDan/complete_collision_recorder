{
 "cells": [
  {
   "cell_type": "code",
   "execution_count": 1,
   "metadata": {},
   "outputs": [
    {
     "name": "stderr",
     "output_type": "stream",
     "text": [
      "/media/dzielinski06/HDD1/AI894 - Capstone/Complete Collision Recorder/.venv/lib/python3.12/site-packages/tqdm/auto.py:21: TqdmWarning: IProgress not found. Please update jupyter and ipywidgets. See https://ipywidgets.readthedocs.io/en/stable/user_install.html\n",
      "  from .autonotebook import tqdm as notebook_tqdm\n"
     ]
    }
   ],
   "source": [
    "# Standard Library Imports\n",
    "import os\n",
    "import pandas as pd\n",
    "import sys\n",
    "\n",
    "# Third-Party Imports\n",
    "import matplotlib.pyplot as plt\n",
    "import pickle\n",
    "\n",
    "\n",
    "# Local Module Imports\n",
    "sys.path.append('../src/complete_collision_recorder/')\n",
    "import complete_collision as cc\n",
    "import utils as u\n",
    "\n",
    "\n",
    "# Map project directories\n",
    "root_dir, src_dir, data_dir, models_dir = u.map_project_directories(notebook=True)"
   ]
  },
  {
   "cell_type": "code",
   "execution_count": 2,
   "metadata": {},
   "outputs": [],
   "source": [
    "# Load the training data\n",
    "training_df = pd.read_csv(os.path.join(data_dir, \"processed\", \"training_df.csv\"))\n",
    "training_df['concatenated_text'] = training_df.apply(u.concatenate_texts, axis=1)"
   ]
  },
  {
   "cell_type": "code",
   "execution_count": 3,
   "metadata": {},
   "outputs": [],
   "source": [
    "# Load the severity model\n",
    "with open(os.path.join(models_dir,'severity.pkl'), 'rb') as f:\n",
    "    severity_best = pickle.load(f)"
   ]
  },
  {
   "cell_type": "code",
   "execution_count": 4,
   "metadata": {},
   "outputs": [
    {
     "data": {
      "text/plain": [
       "SEVERITY_PRED\n",
       "0    1923\n",
       "1     252\n",
       "Name: count, dtype: int64"
      ]
     },
     "execution_count": 4,
     "metadata": {},
     "output_type": "execute_result"
    }
   ],
   "source": [
    "training_df['SEVERITY_PRED'] = severity_best.predict(training_df['concatenated_text'])\n",
    "training_df['SEVERITY_PRED'].value_counts()"
   ]
  },
  {
   "cell_type": "code",
   "execution_count": 5,
   "metadata": {},
   "outputs": [],
   "source": [
    "# Copy the training data to a new dataframe and add the severity prediction text\n",
    "GCAT_pred_df = training_df.copy()\n",
    "GCAT_pred_df['SEVERITY_PRED_TEXT'] = GCAT_pred_df['SEVERITY_PRED'].replace({\n",
    "    0: '',\n",
    "    1: 'SEVERE INJURY',\n",
    "})\n",
    "GCAT_pred_df['GCAT_PRED_TEXT'] = GCAT_pred_df['SEVERITY_PRED_TEXT']\n",
    "GCAT_pred_df['GCAT_PRED_TEXT'] = GCAT_pred_df['GCAT_PRED_TEXT'].apply(lambda x: 'NONE' if x.strip() == '' else x)\n",
    "GCAT_pred_df['concatenated_text'] = GCAT_pred_df['concatenated_text'] + '\\n\\n GCAT INDICATORS: ' + GCAT_pred_df['GCAT_PRED_TEXT']"
   ]
  },
  {
   "cell_type": "code",
   "execution_count": 42,
   "metadata": {},
   "outputs": [
    {
     "name": "stdout",
     "output_type": "stream",
     "text": [
      "GCAT Prediction Dataframe Exported to ../data/processed/GCAT_pred_df.csv\n",
      "This data may be used directly for scoring with the BikeCLE Narrative model or processed with the notebook 'train_and_score_bikeCLE_Gemini.ipynb' to train and evaluate the BikeCLE Narrative model.\n"
     ]
    }
   ],
   "source": [
    "# Export the GCAT prediction dataframe\n",
    "GCAT_pred_df.to_csv(os.path.join(data_dir, 'processed', 'GCAT_pred_df.csv'), index=False)\n",
    "print('GCAT Prediction Dataframe Exported to ../data/processed/GCAT_pred_df.csv')\n",
    "print(\"This data may be used directly for scoring with the BikeCLE Narrative model or processed with the notebook 'train_and_score_bikeCLE_Gemini.ipynb' to train and evaluate the BikeCLE Narrative model.\")"
   ]
  }
 ],
 "metadata": {
  "kernelspec": {
   "display_name": ".venv",
   "language": "python",
   "name": "python3"
  },
  "language_info": {
   "codemirror_mode": {
    "name": "ipython",
    "version": 3
   },
   "file_extension": ".py",
   "mimetype": "text/x-python",
   "name": "python",
   "nbconvert_exporter": "python",
   "pygments_lexer": "ipython3",
   "version": "3.12.3"
  }
 },
 "nbformat": 4,
 "nbformat_minor": 2
}
