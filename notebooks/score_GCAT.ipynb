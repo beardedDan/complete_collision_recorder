{
 "cells": [
  {
   "cell_type": "code",
   "execution_count": 1,
   "metadata": {},
   "outputs": [
    {
     "name": "stderr",
     "output_type": "stream",
     "text": [
      "/media/dzielinski06/HDD1/AI894 - Capstone/Complete Collision Recorder/.venv/lib/python3.12/site-packages/tqdm/auto.py:21: TqdmWarning: IProgress not found. Please update jupyter and ipywidgets. See https://ipywidgets.readthedocs.io/en/stable/user_install.html\n",
      "  from .autonotebook import tqdm as notebook_tqdm\n"
     ]
    }
   ],
   "source": [
    "# General Imports\n",
    "import sys\n",
    "import os\n",
    "import pandas as pd\n",
    "\n",
    "# Modeling Imports\n",
    "import pickle\n",
    "\n",
    "# Import project modules\n",
    "sys.path.append('../src/complete_collision_recorder/')\n",
    "import complete_collision as cc\n",
    "import utils as u\n",
    "\n",
    "# Map project directories\n",
    "root_dir, src_dir, data_dir, models_dir = u.map_project_directories(notebook=True)"
   ]
  },
  {
   "cell_type": "code",
   "execution_count": 2,
   "metadata": {},
   "outputs": [
    {
     "name": "stdout",
     "output_type": "stream",
     "text": [
      "/media/dzielinski06/HDD1/AI894 - Capstone/Complete Collision Recorder\n"
     ]
    }
   ],
   "source": [
    "print(root_dir)"
   ]
  },
  {
   "cell_type": "code",
   "execution_count": 3,
   "metadata": {},
   "outputs": [],
   "source": [
    "training_df = pd.read_csv(os.path.join(data_dir, \"processed\", \"training_df.csv\"))\n",
    "training_df['concatenated_text'] = training_df.apply(u.concatenate_texts, axis=1)"
   ]
  },
  {
   "cell_type": "code",
   "execution_count": 4,
   "metadata": {},
   "outputs": [],
   "source": [
    "# Load the severity model\n",
    "with open(os.path.join(models_dir,'severity.pkl'), 'rb') as f:\n",
    "    severity_best = pickle.load(f)"
   ]
  },
  {
   "cell_type": "code",
   "execution_count": 5,
   "metadata": {},
   "outputs": [
    {
     "data": {
      "text/plain": [
       "SEVERITY_PRED\n",
       "0    1923\n",
       "1     252\n",
       "Name: count, dtype: int64"
      ]
     },
     "execution_count": 5,
     "metadata": {},
     "output_type": "execute_result"
    }
   ],
   "source": [
    "training_df['SEVERITY_PRED'] = severity_best.predict(training_df['concatenated_text'])\n",
    "training_df['SEVERITY_PRED'].value_counts()"
   ]
  },
  {
   "cell_type": "code",
   "execution_count": 6,
   "metadata": {},
   "outputs": [],
   "source": [
    "GCAT_pred_df = training_df"
   ]
  },
  {
   "cell_type": "code",
   "execution_count": 7,
   "metadata": {},
   "outputs": [],
   "source": [
    "GCAT_pred_df['SEVERITY_PRED_TEXT'] = GCAT_pred_df['SEVERITY_PRED'].replace({\n",
    "    0: '',\n",
    "    1: 'SEVERE INJURY',\n",
    "})\n",
    "# GCAT_pred_df['TURN_PRED_TEXT'] = GCAT_pred_df['TURN_PRED'].replace({\n",
    "#     0: '',\n",
    "#     1: 'TURN INVOLVED',\n",
    "# })\n",
    "GCAT_pred_df['GCAT_PRED_TEXT'] = GCAT_pred_df['SEVERITY_PRED_TEXT'] # + ' ' + GCAT_pred_df['TURN_PRED_TEXT']\n",
    "GCAT_pred_df['GCAT_PRED_TEXT'] = GCAT_pred_df['GCAT_PRED_TEXT'].apply(lambda x: 'NONE' if x.strip() == '' else x)\n",
    "GCAT_pred_df['concatenated_text'] = GCAT_pred_df['concatenated_text'] + '\\n\\n GCAT INDICATORS: ' + GCAT_pred_df['GCAT_PRED_TEXT']"
   ]
  },
  {
   "cell_type": "code",
   "execution_count": 8,
   "metadata": {},
   "outputs": [],
   "source": [
    "GCAT_pred_df[['concatenated_text','BIKE_CLE_TEXT']].to_csv(os.path.join(data_dir, \"processed\", \"GCAT_pred_df.csv\"), index=False)"
   ]
  }
 ],
 "metadata": {
  "kernelspec": {
   "display_name": ".venv",
   "language": "python",
   "name": "python3"
  },
  "language_info": {
   "codemirror_mode": {
    "name": "ipython",
    "version": 3
   },
   "file_extension": ".py",
   "mimetype": "text/x-python",
   "name": "python",
   "nbconvert_exporter": "python",
   "pygments_lexer": "ipython3",
   "version": "3.12.3"
  }
 },
 "nbformat": 4,
 "nbformat_minor": 2
}
