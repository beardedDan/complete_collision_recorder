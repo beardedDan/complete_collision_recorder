{
 "cells": [
  {
   "cell_type": "code",
   "execution_count": 4,
   "id": "f973eae4-972b-4a03-9d33-e28e28d18779",
   "metadata": {
    "tags": []
   },
   "outputs": [
    {
     "name": "stdout",
     "output_type": "stream",
     "text": [
      "processed file:  50\n",
      "processed file:  100\n",
      "processed file:  150\n",
      "processed file:  200\n",
      "processed file:  250\n",
      "processed file:  300\n",
      "processed file:  350\n",
      "processed file:  400\n"
     ]
    },
    {
     "name": "stderr",
     "output_type": "stream",
     "text": [
      "/tmp/ipykernel_865523/3105029574.py:22: DtypeWarning: Columns (14,17) have mixed types. Specify dtype option on import or set low_memory=False.\n",
      "  df = pd.read_csv(file_path)\n"
     ]
    },
    {
     "name": "stdout",
     "output_type": "stream",
     "text": [
      "processed file:  450\n",
      "processed file:  500\n",
      "processed file:  550\n",
      "processed file:  600\n",
      "processed file:  650\n",
      "processed file:  700\n",
      "processed file:  750\n",
      "processed file:  800\n",
      "processed file:  850\n",
      "processed file:  900\n",
      "processed file:  950\n",
      "processed file:  1000\n",
      "processed file:  1050\n",
      "processed file:  1100\n",
      "processed file:  1150\n",
      "processed file:  1200\n",
      "processed file:  1250\n",
      "processed file:  1300\n",
      "processed file:  1350\n",
      "processed file:  1400\n",
      "processed file:  1450\n",
      "processed file:  1500\n"
     ]
    },
    {
     "name": "stderr",
     "output_type": "stream",
     "text": [
      "/tmp/ipykernel_865523/3105029574.py:22: DtypeWarning: Columns (14,22,24) have mixed types. Specify dtype option on import or set low_memory=False.\n",
      "  df = pd.read_csv(file_path)\n"
     ]
    },
    {
     "name": "stdout",
     "output_type": "stream",
     "text": [
      "processed file:  1550\n",
      "processed file:  1600\n",
      "processed file:  1650\n",
      "processed file:  1700\n",
      "processed file:  1750\n",
      "processed file:  1800\n",
      "processed file:  1850\n",
      "processed file:  1900\n",
      "processed file:  1950\n",
      "processed file:  2000\n",
      "processed file:  2050\n",
      "processed file:  2100\n",
      "processed file:  2150\n",
      "processed file:  2200\n",
      "processed file:  2250\n",
      "processed file:  2300\n",
      "processed file:  2350\n",
      "processed file:  2400\n",
      "processed file:  2450\n",
      "processed file:  2500\n",
      "processed file:  2550\n"
     ]
    },
    {
     "name": "stderr",
     "output_type": "stream",
     "text": [
      "/tmp/ipykernel_865523/3105029574.py:22: DtypeWarning: Columns (14) have mixed types. Specify dtype option on import or set low_memory=False.\n",
      "  df = pd.read_csv(file_path)\n"
     ]
    },
    {
     "name": "stdout",
     "output_type": "stream",
     "text": [
      "processed file:  2600\n",
      "processed file:  2650\n",
      "processed file:  2700\n",
      "processed file:  2750\n",
      "processed file:  2800\n",
      "processed file:  2850\n",
      "processed file:  2900\n",
      "processed file:  2950\n",
      "processed file:  3000\n",
      "processed file:  3050\n",
      "processed file:  3100\n",
      "processed file:  3150\n",
      "processed file:  3200\n",
      "processed file:  3250\n",
      "processed file:  3300\n",
      "processed file:  3350\n",
      "processed file:  3400\n",
      "processed file:  3450\n",
      "processed file:  3500\n",
      "processed file:  3550\n",
      "processed file:  3600\n",
      "processed file:  3650\n"
     ]
    },
    {
     "name": "stderr",
     "output_type": "stream",
     "text": [
      "/tmp/ipykernel_865523/3105029574.py:22: DtypeWarning: Columns (14) have mixed types. Specify dtype option on import or set low_memory=False.\n",
      "  df = pd.read_csv(file_path)\n"
     ]
    },
    {
     "name": "stdout",
     "output_type": "stream",
     "text": [
      "processed file:  3700\n",
      "processed file:  3750\n",
      "processed file:  3800\n",
      "processed file:  3850\n",
      "processed file:  3900\n",
      "processed file:  3950\n",
      "processed file:  4000\n",
      "processed file:  4050\n"
     ]
    },
    {
     "name": "stderr",
     "output_type": "stream",
     "text": [
      "/tmp/ipykernel_865523/3105029574.py:22: DtypeWarning: Columns (14) have mixed types. Specify dtype option on import or set low_memory=False.\n",
      "  df = pd.read_csv(file_path)\n"
     ]
    },
    {
     "name": "stdout",
     "output_type": "stream",
     "text": [
      "All CSV files have been appended to ../data/raw/index_files/combined_file.csv.\n"
     ]
    }
   ],
   "source": [
    "import os\n",
    "import pandas as pd\n",
    "\n",
    "# Folder where the CSV files are stored\n",
    "input_folder = \"../data/raw/index_files/csv_files\"\n",
    "\n",
    "# Central file to which all CSV data will be appended\n",
    "output_file = \"../data/raw/index_files/combined_file.csv\"\n",
    "\n",
    "# Initialize a flag to indicate whether it's the first file (to keep headers)\n",
    "first_file = True\n",
    "\n",
    "i = 0\n",
    "\n",
    "# Iterate over all files in the input folder\n",
    "for filename in os.listdir(input_folder):\n",
    "    if filename.endswith(\".csv\"):  # Only process .csv files\n",
    "\n",
    "        file_path = os.path.join(input_folder, filename)\n",
    "\n",
    "        # Read the CSV file into a pandas DataFrame\n",
    "        df = pd.read_csv(file_path)\n",
    "\n",
    "        # Append the data to the central output file\n",
    "        # Keep the header only if it's the first file\n",
    "        df.to_csv(output_file, mode=\"a\", header=first_file, index=False)\n",
    "\n",
    "        # After the first file, set first_file to False so headers are skipped for the rest\n",
    "        first_file = False\n",
    "        i = i + 1\n",
    "        if i % 50 == 0:\n",
    "            print(\"processed file: \", i)\n",
    "\n",
    "print(f\"All CSV files have been appended to {output_file}.\")"
   ]
  }
 ],
 "metadata": {
  "kernelspec": {
   "display_name": "Python 3",
   "language": "python",
   "name": "python3"
  },
  "language_info": {
   "codemirror_mode": {
    "name": "ipython",
    "version": 3
   },
   "file_extension": ".py",
   "mimetype": "text/x-python",
   "name": "python",
   "nbconvert_exporter": "python",
   "pygments_lexer": "ipython3",
   "version": "3.10.9"
  }
 },
 "nbformat": 4,
 "nbformat_minor": 5
}
