{
 "cells": [
  {
   "cell_type": "code",
   "execution_count": 1,
   "metadata": {},
   "outputs": [
    {
     "name": "stderr",
     "output_type": "stream",
     "text": [
      "/media/dzielinski06/HDD1/AI894 - Capstone/Complete Collision Recorder/.venv/lib/python3.12/site-packages/tqdm/auto.py:21: TqdmWarning: IProgress not found. Please update jupyter and ipywidgets. See https://ipywidgets.readthedocs.io/en/stable/user_install.html\n",
      "  from .autonotebook import tqdm as notebook_tqdm\n"
     ]
    }
   ],
   "source": [
    "# Standard Library Imports\n",
    "import os\n",
    "import pandas as pd\n",
    "import sys\n",
    "\n",
    "# Third Party Imports\n",
    "from IPython.display import Image, display\n",
    "import matplotlib.pyplot as plt\n",
    "from sklearn.metrics import classification_report, confusion_matrix, ConfusionMatrixDisplay\n",
    "\n",
    "# Local Module Imports\n",
    "sys.path.append('../src/complete_collision_recorder/')\n",
    "import complete_collision as cc\n",
    "import utils as u\n",
    "\n",
    "# Map project directories\n",
    "root_dir, src_dir, data_dir, models_dir = u.map_project_directories(notebook=True)"
   ]
  },
  {
   "cell_type": "code",
   "execution_count": 2,
   "metadata": {},
   "outputs": [
    {
     "name": "stdout",
     "output_type": "stream",
     "text": [
      "Number of records with input text: 2175\n",
      "As of this writing, the narrative scoring takes approximately 1 second per record.\n",
      "Using this assumption, this dataset will probably take: 36.25 minutes to score.\n"
     ]
    }
   ],
   "source": [
    "# Import and copy the full dataset\n",
    "GCAT_pred_df = pd.read_csv(os.path.join(data_dir, \"processed\", \"GCAT_pred_df.csv\"))\n",
    "narrative_scoring_df = GCAT_pred_df.copy()\n",
    "print(f\"Number of records with input text: {len(narrative_scoring_df)}\")\n",
    "print(\"As of this writing, the narrative scoring takes approximately 1 second per record.\")\n",
    "print(f\"Using this assumption, this dataset will probably take: {len(narrative_scoring_df) / 60} minutes to score.\")"
   ]
  },
  {
   "cell_type": "code",
   "execution_count": 3,
   "metadata": {},
   "outputs": [],
   "source": [
    "# Score the testing data with the fine-tuned model with Google API\n",
    "GeminiBikeCleModel = cc.GenBikeCleNarrative(google_api_key=\"CCR_API\")\n",
    "narrative_scoring_df[\"GenAISummary\"] = narrative_scoring_df[\"concatenated_text\"].apply(\n",
    "    lambda x: GeminiBikeCleModel.summarize(\n",
    "        concat_text=x,\n",
    "        model_name=\"tunedModels/narrativetrainingdf-oo49g0etpnrj\",\n",
    "    )\n",
    ")"
   ]
  },
  {
   "cell_type": "code",
   "execution_count": 6,
   "metadata": {},
   "outputs": [],
   "source": [
    "# Define the severe injury indicator\n",
    "keywords = ['severe', 'severely', 'serious', 'killed', 'fatal', 'fatally']\n",
    "narrative_scoring_df['SevereAiReviewInd'] = narrative_scoring_df['GenAISummary'].apply(\n",
    "    lambda x: 1 if any(keyword in x.lower() for keyword in keywords) else 0\n",
    ")"
   ]
  },
  {
   "cell_type": "code",
   "execution_count": 42,
   "metadata": {},
   "outputs": [
    {
     "name": "stdout",
     "output_type": "stream",
     "text": [
      "The scoring is complete and the results are saved to /data/processed/GenAI_df.csv.\n"
     ]
    }
   ],
   "source": [
    "# Output the results\n",
    "narrative_scoring_df.to_csv(os.path.join(data_dir, \"processed\", \"GenAI_df.csv\"))\n",
    "print(\"The scoring is complete and the results are saved to /data/processed/GenAI_df.csv.\")"
   ]
  }
 ],
 "metadata": {
  "kernelspec": {
   "display_name": ".venv",
   "language": "python",
   "name": "python3"
  },
  "language_info": {
   "codemirror_mode": {
    "name": "ipython",
    "version": 3
   },
   "file_extension": ".py",
   "mimetype": "text/x-python",
   "name": "python",
   "nbconvert_exporter": "python",
   "pygments_lexer": "ipython3",
   "version": "3.12.3"
  }
 },
 "nbformat": 4,
 "nbformat_minor": 2
}
